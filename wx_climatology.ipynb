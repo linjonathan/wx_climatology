{
 "cells": [
  {
   "attachments": {},
   "cell_type": "markdown",
   "id": "9aeed6aa-9252-4be3-896d-33f7c1cb63fd",
   "metadata": {},
   "source": [
    "## Here are some useful links for making your forecast!\n",
    "\n",
    "**0. Climatology: What is the “average” like?**\n",
    "* Temp/Precip: https://tinyurl.com/t69sym56\n",
    "\n",
    "**1. Observations: What has happened recently?**\n",
    "* Satellite Observations: https://www.star.nesdis.noaa.gov/GOES/conus_band.php?sat=G16&band=GEOCOLOR&length=24\n",
    "* US Surface Analysis: https://tinyurl.com/jrhjfxp9\n",
    "* Station Observations: https://tinyurl.com/39m9a4bz\n",
    "\n",
    "**2. Model Data: What do the models predict?**\n",
    "* Model Forecasts: https://www.tropicaltidbits.com/\n",
    "* MOS Forecasts: https://vlab.noaa.gov/web/mdl/mos-products\n",
    "* Model Forecast Summary: https://tinyurl.com/mrxmtjmf\n",
    "* USL Model: http://www.microclimates.org/forecast/KTLH/\n",
    "\n",
    "**3. Meteorologists: What do the human experts think?**\n",
    "* Forecast Discussion: https://www.weather.gov/bgm/\n",
    "* NWS Forecast: https://tinyurl.com/4cjv7wa5\n",
    "\n",
    "**4. Your Forecast**\n",
    "* https://www.wxchallenge.com/submit_forecast.php"
   ]
  },
  {
   "cell_type": "code",
   "execution_count": null,
   "id": "5841c3f9-1fa0-4ccc-b3fe-7b6c5deadac9",
   "metadata": {},
   "outputs": [],
   "source": [
    "import os\n",
    "\n",
    "station_state = 'NY'                # state identifier of the station (i.e. \"WA\" for Washington)\n",
    "station_id = 'KBGM'                 # 4 character station ID (i.e. \"KUIL\" for Quillayute)\n",
    "\n",
    "res = os.system('cd src; bash run.sh %s %s' % (station_state, station_id))"
   ]
  },
  {
   "cell_type": "code",
   "execution_count": null,
   "id": "0cb312fe-698f-4cc0-9dc6-7a0340c18b0c",
   "metadata": {},
   "outputs": [],
   "source": [
    "from IPython.display import Image\n",
    "from IPython.core.display import HTML "
   ]
  },
  {
   "cell_type": "code",
   "execution_count": null,
   "id": "e77ad429-a926-42d3-a695-ed5282a4a329",
   "metadata": {},
   "outputs": [],
   "source": [
    "Image(url= \"src//fig/Max_Temperature.png\")"
   ]
  },
  {
   "cell_type": "code",
   "execution_count": null,
   "id": "8043b216-b17e-4625-9f99-fe84c9fe0c93",
   "metadata": {},
   "outputs": [],
   "source": [
    "Image(url= \"src/fig/Min_Temperature.png\")"
   ]
  },
  {
   "cell_type": "code",
   "execution_count": null,
   "id": "196cc7eb-2b2c-4bb0-9697-92ccd52763cb",
   "metadata": {},
   "outputs": [],
   "source": [
    "Image(url=\"src/fig/Precipitation.png\")"
   ]
  },
  {
   "cell_type": "code",
   "execution_count": null,
   "id": "347e7e23-29b6-4574-af18-30062ac70fd2",
   "metadata": {},
   "outputs": [],
   "source": [
    "Image(url= \"src/fig/2-Minute_Maximum_Wind_(knots).png\")"
   ]
  },
  {
   "cell_type": "code",
   "execution_count": null,
   "id": "9996e040-f51c-449d-a6da-29b9988e5a98",
   "metadata": {},
   "outputs": [],
   "source": [
    "Image(url= \"src/fig/Wind_Rose.png\")"
   ]
  },
  {
   "cell_type": "code",
   "execution_count": null,
   "id": "fa5167ee-7a2b-47b5-9f6c-e83359062fc4",
   "metadata": {},
   "outputs": [],
   "source": [
    "Image(url= \"src/fig/recent_TMax.png\")"
   ]
  },
  {
   "cell_type": "code",
   "execution_count": null,
   "id": "6826f36b-280f-4b6f-a6cf-15105f61eeba",
   "metadata": {},
   "outputs": [],
   "source": [
    "Image(url= \"src/fig/recent_TMin.png\")"
   ]
  },
  {
   "cell_type": "code",
   "execution_count": null,
   "id": "08ca65ae-864c-405a-b808-d2253b258ee7",
   "metadata": {},
   "outputs": [],
   "source": [
    "Image(url= \"src/fig/recent_wnd.png\")"
   ]
  }
 ],
 "metadata": {
  "kernelspec": {
   "display_name": "EAS 4510: Synoptic 2",
   "language": "python",
   "name": "synoptic2"
  },
  "language_info": {
   "codemirror_mode": {
    "name": "ipython",
    "version": 3
   },
   "file_extension": ".py",
   "mimetype": "text/x-python",
   "name": "python",
   "nbconvert_exporter": "python",
   "pygments_lexer": "ipython3",
   "version": "3.12.5"
  }
 },
 "nbformat": 4,
 "nbformat_minor": 5
}
