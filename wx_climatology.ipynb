{
 "cells": [
  {
   "cell_type": "code",
   "execution_count": 11,
   "id": "3089710e-8d3b-439f-a23d-f6ea97b35dfc",
   "metadata": {},
   "outputs": [
    {
     "name": "stdout",
     "output_type": "stream",
     "text": [
      "Downloading ASOS data...\n",
      "Generating climatology figures...\n",
      "\tSaved fig/Max_Temperature.png\n",
      "\tSaved fig/Min_Temperature.png\n",
      "\tSaved fig/Precipitation.png\n",
      "\tSaved fig/2-Minute_Maximum_Wind_(knots).png\n",
      "\tSaved fig/Wind_Rose.png\n",
      "Downloading MOS data...\n",
      "Generating verification figures...\n",
      "\tSaved fig/recent_TMax.png\n",
      "\tSaved fig/recent_TMin.png\n",
      "\tSaved fig/recent_wnd.png\n"
     ]
    }
   ],
   "source": [
    "import os\n",
    "\n",
    "station_state = 'NY'                # state identifier of the station (i.e. \"WA\" for Washington)\n",
    "station_id = 'KBGM'                 # 4 character station ID (i.e. \"KUIL\" for Quillayute)\n",
    "\n",
    "res = os.system('cd src; bash run.sh %s %s' % (station_state, station_id))"
   ]
  },
  {
   "cell_type": "code",
   "execution_count": 15,
   "id": "0cb312fe-698f-4cc0-9dc6-7a0340c18b0c",
   "metadata": {},
   "outputs": [],
   "source": [
    "from IPython.display import Image\n",
    "from IPython.core.display import HTML "
   ]
  },
  {
   "cell_type": "code",
   "execution_count": 17,
   "id": "e77ad429-a926-42d3-a695-ed5282a4a329",
   "metadata": {},
   "outputs": [
    {
     "data": {
      "text/html": [
       "<img src=\"./fig/Max_Temperature.png\"/>"
      ],
      "text/plain": [
       "<IPython.core.display.Image object>"
      ]
     },
     "execution_count": 17,
     "metadata": {},
     "output_type": "execute_result"
    }
   ],
   "source": [
    "Image(url= \"./fig/Max_Temperature.png\")"
   ]
  },
  {
   "cell_type": "code",
   "execution_count": 18,
   "id": "8043b216-b17e-4625-9f99-fe84c9fe0c93",
   "metadata": {},
   "outputs": [
    {
     "data": {
      "text/html": [
       "<img src=\"./fig/Min_Temperature.png\"/>"
      ],
      "text/plain": [
       "<IPython.core.display.Image object>"
      ]
     },
     "execution_count": 18,
     "metadata": {},
     "output_type": "execute_result"
    }
   ],
   "source": [
    "Image(url= \"./fig/Min_Temperature.png\")"
   ]
  },
  {
   "cell_type": "code",
   "execution_count": 19,
   "id": "196cc7eb-2b2c-4bb0-9697-92ccd52763cb",
   "metadata": {},
   "outputs": [
    {
     "data": {
      "text/html": [
       "<img src=\"./fig/Precipitation.png\"/>"
      ],
      "text/plain": [
       "<IPython.core.display.Image object>"
      ]
     },
     "execution_count": 19,
     "metadata": {},
     "output_type": "execute_result"
    }
   ],
   "source": [
    "Image(url= \"./fig/Precipitation.png\")"
   ]
  },
  {
   "cell_type": "code",
   "execution_count": 20,
   "id": "347e7e23-29b6-4574-af18-30062ac70fd2",
   "metadata": {},
   "outputs": [
    {
     "data": {
      "text/html": [
       "<img src=\"./fig/2-Minute_Maximum_Wind_(knots).png\"/>"
      ],
      "text/plain": [
       "<IPython.core.display.Image object>"
      ]
     },
     "execution_count": 20,
     "metadata": {},
     "output_type": "execute_result"
    }
   ],
   "source": [
    "Image(url= \"./fig/2-Minute_Maximum_Wind_(knots).png\")"
   ]
  },
  {
   "cell_type": "code",
   "execution_count": 21,
   "id": "9996e040-f51c-449d-a6da-29b9988e5a98",
   "metadata": {},
   "outputs": [
    {
     "data": {
      "text/html": [
       "<img src=\"./fig/Wind_Rose.png\"/>"
      ],
      "text/plain": [
       "<IPython.core.display.Image object>"
      ]
     },
     "execution_count": 21,
     "metadata": {},
     "output_type": "execute_result"
    }
   ],
   "source": [
    "Image(url= \"./fig/Wind_Rose.png\")"
   ]
  },
  {
   "cell_type": "code",
   "execution_count": 22,
   "id": "fa5167ee-7a2b-47b5-9f6c-e83359062fc4",
   "metadata": {},
   "outputs": [
    {
     "data": {
      "text/html": [
       "<img src=\"./fig/recent_TMax.png\"/>"
      ],
      "text/plain": [
       "<IPython.core.display.Image object>"
      ]
     },
     "execution_count": 22,
     "metadata": {},
     "output_type": "execute_result"
    }
   ],
   "source": [
    "Image(url= \"./fig/recent_TMax.png\")"
   ]
  },
  {
   "cell_type": "code",
   "execution_count": 23,
   "id": "6826f36b-280f-4b6f-a6cf-15105f61eeba",
   "metadata": {},
   "outputs": [
    {
     "data": {
      "text/html": [
       "<img src=\"./fig/recent_TMin.png\"/>"
      ],
      "text/plain": [
       "<IPython.core.display.Image object>"
      ]
     },
     "execution_count": 23,
     "metadata": {},
     "output_type": "execute_result"
    }
   ],
   "source": [
    "Image(url= \"./fig/recent_TMin.png\")"
   ]
  },
  {
   "cell_type": "code",
   "execution_count": 24,
   "id": "08ca65ae-864c-405a-b808-d2253b258ee7",
   "metadata": {},
   "outputs": [
    {
     "data": {
      "text/html": [
       "<img src=\"./fig/recent_wnd.png\"/>"
      ],
      "text/plain": [
       "<IPython.core.display.Image object>"
      ]
     },
     "execution_count": 24,
     "metadata": {},
     "output_type": "execute_result"
    }
   ],
   "source": [
    "Image(url= \"./fig/recent_wnd.png\")"
   ]
  }
 ],
 "metadata": {
  "kernelspec": {
   "display_name": "EAS 4510: Synoptic 2",
   "language": "python",
   "name": "synoptic2"
  },
  "language_info": {
   "codemirror_mode": {
    "name": "ipython",
    "version": 3
   },
   "file_extension": ".py",
   "mimetype": "text/x-python",
   "name": "python",
   "nbconvert_exporter": "python",
   "pygments_lexer": "ipython3",
   "version": "3.12.5"
  }
 },
 "nbformat": 4,
 "nbformat_minor": 5
}
