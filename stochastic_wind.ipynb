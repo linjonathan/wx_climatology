{
 "cells": [
  {
   "cell_type": "code",
   "execution_count": null,
   "id": "a8b6c4fb-ed3e-4b15-8d49-7d58168efcfa",
   "metadata": {},
   "outputs": [],
   "source": [
    "from bufkit import ingest\n",
    "import numpy as np\n",
    "from bufkit import surface\n",
    "from bufkit import sounding\n",
    "import sys"
   ]
  },
  {
   "cell_type": "code",
   "execution_count": 109,
   "id": "90e06ec5-acc7-4b1e-b35a-ad57b3e370a2",
   "metadata": {},
   "outputs": [
    {
     "name": "stdout",
     "output_type": "stream",
     "text": [
      "Downloading data from http://www.meteo.psu.edu/bufkit/data/NAM/nam_kmso.buf\n"
     ]
    }
   ],
   "source": [
    "model = \n",
    "bufr_file = ingest('KMSO', 'NAM')\n",
    "utc_factor = -6"
   ]
  },
  {
   "cell_type": "code",
   "execution_count": 110,
   "id": "aa942a61-1113-4184-85fc-c9ef72133b5a",
   "metadata": {},
   "outputs": [],
   "source": [
    "surface_data = surface(bufr_file)\n",
    "sounding_data = sounding(bufr_file)"
   ]
  },
  {
   "cell_type": "code",
   "execution_count": 111,
   "id": "c92915f2-a969-4573-80aa-d62f4dd8ac85",
   "metadata": {},
   "outputs": [],
   "source": [
    "#  Pressure at top of mixed layer\n",
    "mlp = np.array(surface_data.PRES)\n",
    "\n",
    "# 10m zonal and meridional wind\n",
    "w10u = np.array(surface_data['UWND'])\n",
    "w10v = np.array(surface_data['VWND'])"
   ]
  },
  {
   "cell_type": "code",
   "execution_count": 112,
   "id": "503a0504-72b3-4ef5-8b78-b86f1f9accf5",
   "metadata": {},
   "outputs": [],
   "source": [
    "# time-height cross sections of wind, pressure, and temperature\n",
    "nP = len(sounding_data.PROFILE[0].PRES)\n",
    "nT = len(sounding_data.PROFILE)\n",
    "PRES = np.zeros((nT, nP))\n",
    "TEMP = np.zeros((nT, nP))\n",
    "SKNT = np.zeros((nT, nP))\n",
    "DRCT = np.zeros((nT, nP))\n",
    "for i in range(nT):\n",
    "    PRES[i, :] = np.array(sounding_data.PROFILE[i].PRES)\n",
    "    TEMP[i, :] = np.array(sounding_data.PROFILE[i].TMPC)\n",
    "    SKNT[i, :] = np.array(sounding_data.PROFILE[i].SKNT)    \n",
    "    DRCT[i, :] = np.array(sounding_data.PROFILE[i].DRCT)"
   ]
  },
  {
   "cell_type": "code",
   "execution_count": 113,
   "id": "ae9219b3-d3a7-40ee-8ad6-5013588d3ce4",
   "metadata": {},
   "outputs": [],
   "source": [
    "TIME = np.array(surface_data['TIME'])\n",
    "hrs = TIME.astype('datetime64[h]').astype(int) % 24"
   ]
  },
  {
   "cell_type": "code",
   "execution_count": 123,
   "id": "86c6d722-2582-4153-8731-8b101efd46b4",
   "metadata": {},
   "outputs": [],
   "source": [
    "import scipy.io\n",
    "hrs_local = hrs + utc_factor\n",
    "hrs_local[hrs_local < 0] = hrs_local[hrs_local < 0] + 24\n",
    "midn_idx = np.argwhere(hrs_local == 0)[0:2].flatten()\n",
    "scipy.io.savemat('st_wind.mat', {'mlp': mlp, 'w10u': w10u, 'w10v': w10v, 'time': TIME,\n",
    "                                 'wth': SKNT, 'dth': DRCT, 'pth': PRES, 'tth': TEMP,\n",
    "                                 'midn_idx': midn_idx})"
   ]
  },
  {
   "cell_type": "code",
   "execution_count": 130,
   "id": "4f541e08-9a06-4ba3-9c79-85deceb5318d",
   "metadata": {},
   "outputs": [],
   "source": [
    "f = open('stochastic_wind.txt')\n",
    "wspds = np.array([float(x.rstrip('\\n')) for x in f])"
   ]
  },
  {
   "cell_type": "code",
   "execution_count": 132,
   "id": "f2877393-e9c5-4e47-bc61-ca04c7488b85",
   "metadata": {},
   "outputs": [
    {
     "name": "stdout",
     "output_type": "stream",
     "text": [
      "14.903348806292204\n"
     ]
    }
   ],
   "source": [
    "print(np.mean(wspds))"
   ]
  }
 ],
 "metadata": {
  "kernelspec": {
   "display_name": "EAS 4510: Synoptic 2",
   "language": "python",
   "name": "synoptic2"
  },
  "language_info": {
   "codemirror_mode": {
    "name": "ipython",
    "version": 3
   },
   "file_extension": ".py",
   "mimetype": "text/x-python",
   "name": "python",
   "nbconvert_exporter": "python",
   "pygments_lexer": "ipython3",
   "version": "3.12.5"
  }
 },
 "nbformat": 4,
 "nbformat_minor": 5
}
